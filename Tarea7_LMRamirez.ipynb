{
 "cells": [
  {
   "cell_type": "markdown",
   "metadata": {},
   "source": [
    "<img style=\"float: left; margin: 30px 15px 15px 15px;\" src=\"https://pngimage.net/wp-content/uploads/2018/06/logo-iteso-png-5.png\" width=\"300\" height=\"500\" /> \n",
    "    \n",
    "    \n",
    "### <font color='navy'> Simulación de procesos financieros. \n",
    "\n",
    "**Nombres:** Luis María Ramirez de la Rosa\n",
    "\n",
    "**Fecha:** 06 de octubre del 2020.\n",
    "\n",
    "**Expediente** : IF691761\n",
    "    \n",
    "**Profesor:** Oscar David Jaramillo Zuluaga. \n",
    "   \n",
    "**Link:** https://github.com/luismaria8992ramirez/SPF_LMRR_Tareas_7_8_9/blob/main/Tarea7_LMRamirez.ipynb \n",
    "    \n",
    "# Tarea 7: Clase 14"
   ]
  },
  {
   "attachments": {
    "imagen.png": {
     "image/png": "[encoded data removed]"
    }
   },
   "cell_type": "markdown",
   "metadata": {},
   "source": [
    "# Tarea: Parte 1 \n",
    "\n",
    "Aproxime el valor de la siguiente integral usando el método monte carlo crudo y método de reducción de varianza de muestreo estratíficado\n",
    "\n",
    "$$I=\\int_{0}^{1}x^2\\text{d}x=\\left.\\frac{x^3}{3}\\right|_{x=0}^{x=1}=\\frac{1}{3}\\approx 0.33333$$\n",
    "\n",
    "Pasos\n",
    "1. Cree una función que realice el método de muestreo estratíficado, recibiendo como único parámetro de entrada la cantidad de estratos y retornando las variables estratíficadas correspondientes.\n",
    "2. Reporte los resultados de la aproximación de la integral usando montecarlo crudo y muestreo estratíficado, en un Dataframe con la información mostrada en la siguiente imagen:\n",
    "![imagen.png](attachment:imagen.png)"
   ]
  },
  {
   "cell_type": "code",
   "execution_count": 6,
   "metadata": {},
   "outputs": [],
   "source": [
    "# Librerias Parte 1\n",
    "import numpy as np\n",
    "import pandas as pd\n",
    "import scipy.stats as st\n",
    "# Librerias Parte 2\n",
    "import time\n",
    "import random\n",
    "from functools import reduce\n",
    "import matplotlib.pyplot as plt"
   ]
  },
  {
   "cell_type": "markdown",
   "metadata": {},
   "source": [
    "## Respuesta de: RSlay"
   ]
  },
  {
   "cell_type": "code",
   "execution_count": 2,
   "metadata": {},
   "outputs": [],
   "source": [
    "# Respuesta 1\n",
    "def int_montecarlo(f:'Función', a:'Límite inferior', b:'Límie superior', U:'Muestra de números U~[a,b]'):\n",
    "    '''Integra una funcion \"f\" con limites de \"a\" a \"b\" dado una cantidad de numeros aleatorios uniformes U.'''\n",
    "    return (b-a)/len(U)*np.sum(f(U))\n",
    "\n",
    "\n",
    "def estratos(n_estratos:'Cantidad de Estratos'):\n",
    "    '''Realiza el método de muestreo estratificado'''\n",
    "    U2 = np.random.rand(n_estratos)\n",
    "    i = np.arange(0, n_estratos)\n",
    "    v = (U2+i)/n_estratos\n",
    "    return v # m_estratificado\n"
   ]
  },
  {
   "cell_type": "code",
   "execution_count": 3,
   "metadata": {},
   "outputs": [
    {
     "data": {
      "text/html": [
       "<div>\n",
       "<style scoped>\n",
       "    .dataframe tbody tr th:only-of-type {\n",
       "        vertical-align: middle;\n",
       "    }\n",
       "\n",
       "    .dataframe tbody tr th {\n",
       "        vertical-align: top;\n",
       "    }\n",
       "\n",
       "    .dataframe thead th {\n",
       "        text-align: right;\n",
       "    }\n",
       "</style>\n",
       "<table border=\"1\" class=\"dataframe\">\n",
       "  <thead>\n",
       "    <tr style=\"text-align: right;\">\n",
       "      <th></th>\n",
       "      <th>Montecarlo crudo</th>\n",
       "      <th>Error_relativo%</th>\n",
       "      <th>Muestreo Estratificado</th>\n",
       "      <th>Error_relativo2%</th>\n",
       "    </tr>\n",
       "    <tr>\n",
       "      <th>Cantidad_terminos</th>\n",
       "      <th></th>\n",
       "      <th></th>\n",
       "      <th></th>\n",
       "      <th></th>\n",
       "    </tr>\n",
       "  </thead>\n",
       "  <tbody>\n",
       "    <tr>\n",
       "      <th>10</th>\n",
       "      <td>0.419647</td>\n",
       "      <td>25.894069</td>\n",
       "      <td>0.314497</td>\n",
       "      <td>5.650952e+00</td>\n",
       "    </tr>\n",
       "    <tr>\n",
       "      <th>100</th>\n",
       "      <td>0.284982</td>\n",
       "      <td>14.505463</td>\n",
       "      <td>0.334030</td>\n",
       "      <td>2.090014e-01</td>\n",
       "    </tr>\n",
       "    <tr>\n",
       "      <th>1000</th>\n",
       "      <td>0.347902</td>\n",
       "      <td>4.370672</td>\n",
       "      <td>0.333328</td>\n",
       "      <td>1.563016e-03</td>\n",
       "    </tr>\n",
       "    <tr>\n",
       "      <th>10000</th>\n",
       "      <td>0.338068</td>\n",
       "      <td>1.420374</td>\n",
       "      <td>0.333333</td>\n",
       "      <td>1.176386e-04</td>\n",
       "    </tr>\n",
       "    <tr>\n",
       "      <th>100000</th>\n",
       "      <td>0.333234</td>\n",
       "      <td>0.029739</td>\n",
       "      <td>0.333333</td>\n",
       "      <td>5.619202e-07</td>\n",
       "    </tr>\n",
       "    <tr>\n",
       "      <th>1000000</th>\n",
       "      <td>0.333360</td>\n",
       "      <td>0.008012</td>\n",
       "      <td>0.333333</td>\n",
       "      <td>1.029668e-07</td>\n",
       "    </tr>\n",
       "    <tr>\n",
       "      <th>10000000</th>\n",
       "      <td>0.333278</td>\n",
       "      <td>0.016743</td>\n",
       "      <td>0.333333</td>\n",
       "      <td>1.492356e-09</td>\n",
       "    </tr>\n",
       "  </tbody>\n",
       "</table>\n",
       "</div>"
      ],
      "text/plain": [
       "                   Montecarlo crudo  Error_relativo%  Muestreo Estratificado  \\\n",
       "Cantidad_terminos                                                              \n",
       "10                         0.419647        25.894069                0.314497   \n",
       "100                        0.284982        14.505463                0.334030   \n",
       "1000                       0.347902         4.370672                0.333328   \n",
       "10000                      0.338068         1.420374                0.333333   \n",
       "100000                     0.333234         0.029739                0.333333   \n",
       "1000000                    0.333360         0.008012                0.333333   \n",
       "10000000                   0.333278         0.016743                0.333333   \n",
       "\n",
       "                   Error_relativo2%  \n",
       "Cantidad_terminos                    \n",
       "10                     5.650952e+00  \n",
       "100                    2.090014e-01  \n",
       "1000                   1.563016e-03  \n",
       "10000                  1.176386e-04  \n",
       "100000                 5.619202e-07  \n",
       "1000000                1.029668e-07  \n",
       "10000000               1.492356e-09  "
      ]
     },
     "execution_count": 3,
     "metadata": {},
     "output_type": "execute_result"
    }
   ],
   "source": [
    "I = 1/3\n",
    "# intervalo de integración\n",
    "a = 0; b = 1\n",
    "\n",
    "# Cantidad de términos, en escala logarítmica\n",
    "N = np.logspace(1,7,7,dtype=int) #Va a poner 7 números, los cuales será 10^1, 10^2, 10^3, ... hasta 10^7. Se pone en escala\n",
    "#logaritmica porque el primer valor será 10,100,1000.\n",
    "\n",
    "# Definimos la tabla donde se mostrarán los resultados\n",
    "df = pd.DataFrame(index=N,columns=['Montecarlo crudo', 'Error_relativo%','Muestreo Estratificado','Error_relativo2%'], dtype='float')\n",
    "df.index.name = \"Cantidad_terminos\"\n",
    "\n",
    "# Números aleatorios dependiente de la cantidad de términos N\n",
    "ui = list(map(lambda N:np.random.uniform(a,b,N),N)) #Crea una lista de listas. La primer lista tendrá 10^1 términos, la\n",
    "#la segunda tendrá 10^2 términos. Y los creará de 'a' a 'b'.\n",
    "u2 = list(map(lambda N:estratos(N),N))\n",
    "\n",
    "# Calculamos la aproximación por montecarlo dependiendo de la cantidad de\n",
    "# términos que hayamos creado con ui\n",
    "I_m = list(map(lambda Y:int_montecarlo(lambda x:x**2,a,b,Y),ui)) #La primer lambda es para llamar montecarlo, y la segunda\n",
    "#es para poder definir la función f. 'Y' es la variable que le estás metiendo a lambda.\n",
    "I_m2 = list(map(lambda Y:int_montecarlo(lambda x:x**2,a,b,Y),u2))\n",
    "\n",
    "# Mostramos los resultados en la tabla previamente creada\n",
    "df.loc[N,\"Montecarlo crudo\"] = I_m\n",
    "df.loc[N,\"Error_relativo%\"] = np.abs(df.loc[N,\"Montecarlo crudo\"]-I)*100/I\n",
    "df.loc[N,\"Muestreo Estratificado\"] = I_m2\n",
    "df.loc[N,\"Error_relativo2%\"] = np.abs(df.loc[N,\"Muestreo Estratificado\"]-I)*100/I\n",
    "df"
   ]
  },
  {
   "cell_type": "markdown",
   "metadata": {},
   "source": [
    "## Respuesta de: LMRamirez"
   ]
  },
  {
   "cell_type": "code",
   "execution_count": 4,
   "metadata": {},
   "outputs": [],
   "source": [
    "# Respuesta 1\n",
    "def int_montecarlo(f:'Función', a:'Límite inferior', b:'Límie superior', U:'Muestra de números U~[a,b]'):\n",
    "    '''Integra una funcion \"f\" con limites de \"a\" a \"b\" dado una cantidad de numeros aleatorios uniformes U.'''\n",
    "    return (b-a)/len(U)*np.sum(f(U))\n",
    "\n",
    "\n",
    "def est(n:'Cantidad de Estratos'):\n",
    "    '''Esta funcion nos genera una muestra estratificada con n estratos'''\n",
    "    U2 = np.random.rand(n)\n",
    "    i = np.arange(0, n)\n",
    "    v = (U2+i)/n\n",
    "    return v"
   ]
  },
  {
   "cell_type": "code",
   "execution_count": 5,
   "metadata": {},
   "outputs": [
    {
     "data": {
      "text/html": [
       "<div>\n",
       "<style scoped>\n",
       "    .dataframe tbody tr th:only-of-type {\n",
       "        vertical-align: middle;\n",
       "    }\n",
       "\n",
       "    .dataframe tbody tr th {\n",
       "        vertical-align: top;\n",
       "    }\n",
       "\n",
       "    .dataframe thead th {\n",
       "        text-align: right;\n",
       "    }\n",
       "</style>\n",
       "<table border=\"1\" class=\"dataframe\">\n",
       "  <thead>\n",
       "    <tr style=\"text-align: right;\">\n",
       "      <th></th>\n",
       "      <th>Montecarlo crudo</th>\n",
       "      <th>Error_relativo1%</th>\n",
       "      <th>Muestreo estratificado</th>\n",
       "      <th>Error_relativo2%</th>\n",
       "    </tr>\n",
       "    <tr>\n",
       "      <th>Cantidad_terminos</th>\n",
       "      <th></th>\n",
       "      <th></th>\n",
       "      <th></th>\n",
       "      <th></th>\n",
       "    </tr>\n",
       "  </thead>\n",
       "  <tbody>\n",
       "    <tr>\n",
       "      <th>10</th>\n",
       "      <td>0.235996</td>\n",
       "      <td>29.201094</td>\n",
       "      <td>0.315470</td>\n",
       "      <td>5.358958e+00</td>\n",
       "    </tr>\n",
       "    <tr>\n",
       "      <th>100</th>\n",
       "      <td>0.278683</td>\n",
       "      <td>16.394993</td>\n",
       "      <td>0.333071</td>\n",
       "      <td>7.879733e-02</td>\n",
       "    </tr>\n",
       "    <tr>\n",
       "      <th>1000</th>\n",
       "      <td>0.354288</td>\n",
       "      <td>6.286383</td>\n",
       "      <td>0.333361</td>\n",
       "      <td>8.191527e-03</td>\n",
       "    </tr>\n",
       "    <tr>\n",
       "      <th>10000</th>\n",
       "      <td>0.334212</td>\n",
       "      <td>0.263528</td>\n",
       "      <td>0.333334</td>\n",
       "      <td>7.345482e-05</td>\n",
       "    </tr>\n",
       "    <tr>\n",
       "      <th>100000</th>\n",
       "      <td>0.332869</td>\n",
       "      <td>0.139394</td>\n",
       "      <td>0.333333</td>\n",
       "      <td>2.686978e-06</td>\n",
       "    </tr>\n",
       "    <tr>\n",
       "      <th>1000000</th>\n",
       "      <td>0.333550</td>\n",
       "      <td>0.064934</td>\n",
       "      <td>0.333333</td>\n",
       "      <td>7.859230e-08</td>\n",
       "    </tr>\n",
       "    <tr>\n",
       "      <th>10000000</th>\n",
       "      <td>0.333484</td>\n",
       "      <td>0.045175</td>\n",
       "      <td>0.333333</td>\n",
       "      <td>5.059819e-09</td>\n",
       "    </tr>\n",
       "  </tbody>\n",
       "</table>\n",
       "</div>"
      ],
      "text/plain": [
       "                   Montecarlo crudo  Error_relativo1%  Muestreo estratificado  \\\n",
       "Cantidad_terminos                                                               \n",
       "10                         0.235996         29.201094                0.315470   \n",
       "100                        0.278683         16.394993                0.333071   \n",
       "1000                       0.354288          6.286383                0.333361   \n",
       "10000                      0.334212          0.263528                0.333334   \n",
       "100000                     0.332869          0.139394                0.333333   \n",
       "1000000                    0.333550          0.064934                0.333333   \n",
       "10000000                   0.333484          0.045175                0.333333   \n",
       "\n",
       "                   Error_relativo2%  \n",
       "Cantidad_terminos                    \n",
       "10                     5.358958e+00  \n",
       "100                    7.879733e-02  \n",
       "1000                   8.191527e-03  \n",
       "10000                  7.345482e-05  \n",
       "100000                 2.686978e-06  \n",
       "1000000                7.859230e-08  \n",
       "10000000               5.059819e-09  "
      ]
     },
     "execution_count": 5,
     "metadata": {},
     "output_type": "execute_result"
    }
   ],
   "source": [
    "# Respuesta 2\n",
    "I = 1/3\n",
    "a = 0  # intervalo de integración (Limite inferior)\n",
    "b = 1  # intervalo de integración (Limite superior)\n",
    "N = np.logspace(1,7,7,dtype=int)  # Cantidad de términos (escala logarítmica)\n",
    "ui = list(map(lambda N:np.random.uniform(a,b,N),N))  # Números aleatorios respecto a la cantidad de términos N\n",
    "# Aproximación por montecarlo dependiendo de \"ui\"\n",
    "I_m = list(map(lambda Y:int_montecarlo(lambda x:x**2,a,b,Y),ui))\n",
    "ui_estra = list(map(lambda x: est(x), N))  # estratificado:\n",
    "fx = lambda x: x**2\n",
    "I_m_estra = list(map(lambda Y:fx(Y), ui_estra))  # Evaluación\n",
    "I_m_estra = list(map(lambda Y:np.mean(Y), I_m_estra))  # Promedio\n",
    "# Tabla de Resultados\n",
    "df = pd.DataFrame(index=N,columns=['Montecarlo crudo', 'Error_relativo1%','Muestreo estratificado', 'Error_relativo2%'], dtype='float')\n",
    "df.index.name = \"Cantidad_terminos\"\n",
    "df.loc[N,'Montecarlo crudo'] = I_m\n",
    "df.loc[N,\"Error_relativo1%\"] = np.abs(df.loc[N,\"Montecarlo crudo\"]-I)*100/I\n",
    "df.loc[N,\"Muestreo estratificado\"] = I_m_estra\n",
    "df.loc[N,\"Error_relativo2%\"] = np.abs(df.loc[N,\"Muestreo estratificado\"]-I)*100/I\n",
    "df"
   ]
  },
  {
   "cell_type": "markdown",
   "metadata": {},
   "source": [
    "# Tarea: Parte 2\n",
    "Considera la distribución de probabilidad cuya función de densidad de probabilidad es:\n",
    "\n",
    "$$ f(x) =\n",
    "  \\begin{cases}\n",
    "    {\\frac{3}{2}x^2}       & \\text{if }-1\\leq x \\leq 1\\\\\n",
    "    0  &  otherwise\n",
    "  \\end{cases}\n",
    "$$\n",
    "\n",
    "El problema consiste en un realizar un experimento simulado con la ayuda de las técnicas de reduccíon de varianza, para estimar la media de la distribución. Para proporcionar un estandar de comparación, también derive la media analiticamente.\n",
    "\n",
    "Para cada uno de los siguientes casos, use los mismos 10 números aleatorios uniformes (obtenidos como se instruyó en el inicio de la sección de problemas) para generar observaciones aleatorias, y calcular el estimado resultante de las medias.\n",
    "\n",
    "* a) Use la tecnica cruda de Monte Carlo.\n",
    "* b) Use el muestreo estratifucado con 3 stratos: $0 \\leq F(x) \\leq 0.6 , \\ 0.6 \\leq F(x) \\leq 0.9\\ and \\ 0.9 < F(x) \\leq 1$ con 3, 3, y 4 obsercaciones respectivamente.\n",
    "* c) Use el método de números aleatorios complementarios.\n",
    "\n",
    "Además use el método de estratificación donde se divide en B estratos, visto la clase pasada y compare el resultado con los métodos anteriores cuando se toman $2,4,6,10$ estratos respectivamente, concluya.\n",
    "\n"
   ]
  },
  {
   "cell_type": "markdown",
   "metadata": {},
   "source": [
    "## Respuesta de: LMRamirez"
   ]
  },
  {
   "cell_type": "markdown",
   "metadata": {},
   "source": [
    "$$ f(x) =\n",
    "  \\begin{cases}\n",
    "    {\\frac{3}{2}x^2}       & \\text{if }-1\\leq x \\leq 1\\\\\n",
    "    0  &  otherwise\n",
    "  \\end{cases}\n",
    "$$\n",
    "\n",
    "El valor esperado de $f(x)$ esta dado por: \n",
    "$$E[x] = \\int_{-\\infty}^{-\\infty} x f(x) dx = \\int_{-1}^{1} x \\frac{3}{2} x^{2} dx = \\frac{3}{2} \\int_{-1}^{1}  x^{3} dx = \\frac{3}{2} \\frac{x^{4}}{4} \\Big|_{-1}^{1} = \\frac{3}{8} [1 - 1] = 0$$\n",
    "\n",
    "La función de distribución acumulada sería:\n",
    "$$F(x) =  \\int_{-\\infty}^{x} f(x) dx = \\int_{-1}^{x} \\frac{3}{2} x^{2} dx = \\frac{3}{2} \\int_{-1}^{x} x^{2} dx = \\frac{3}{2} \\frac{x^{3}}{3} \\Big|_{-1}^{x} = \\frac{x^{3}}{2} \\Big|_{-1}^{x} = \\frac{x^{3}}{2} - \\frac{-1}{2} = \\frac{x^{3} + 1}{2}$$\n",
    "\n",
    "Método de la transformada inversa:\n",
    "$$y = \\frac{x^{3} + 1}{2} \\longrightarrow 2y = x^{3} + 1 \\longrightarrow 2y - 1 = x^{3} \\longrightarrow x = [2y - 1]^{\\frac{1}{3}}$$\n",
    "Que está definida de la siguiente forma $-[- 2y + 1]^{\\frac{1}{3}}$ si $y \\leq 0.5$ y $[2y - 1]^{\\frac{1}{3}}$ si $y \\geq 0.5$"
   ]
  },
  {
   "cell_type": "code",
   "execution_count": 48,
   "metadata": {},
   "outputs": [
    {
     "data": {
      "image/png": "[encoded data removed]",
      "text/plain": [
       "<Figure size 432x288 with 1 Axes>"
      ]
     },
     "metadata": {
      "needs_background": "light"
     },
     "output_type": "display_data"
    },
    {
     "name": "stdout",
     "output_type": "stream",
     "text": [
      "Se observa que el valor esperado o media es igual a 0\n"
     ]
    }
   ],
   "source": [
    "# Clase 9, trasformada inversa\n",
    "np.random.seed(1)  # Para que siempre sean los mismos numeros aleatorios\n",
    "N = 10000 # Número de muestras\n",
    "a = -1  # intervalo de integración (Limite inferior)\n",
    "b = 1  # intervalo de integración (Limite superior)\n",
    "f = lambda x: (3/2)*x**2 if x<=1 and x>=-1 else 0  # Función Inicial\n",
    "xi = lambda x: -(-2*x+1)**(1/3) if x<.5 else (2*x-1)**(1/3)  # Función usando transformada inversa\n",
    "# Validación de la función\n",
    "x = np.arange(a,b,0.001)  # Valores en x\n",
    "plt.plot(x,list(map(f,x)))  # Grafica de la función Inicial\n",
    "u = np.random.rand(N)  # Valores para la Función de la Transformada Inversa\n",
    "randon_f = list(map(xi,u))  # Lista de valores de la función de la Transformada Inversa\n",
    "plt.hist(randon_f, 50, density=True)  # Grafica de la Función de la Transformada Inversa\n",
    "plt.title('Validación')\n",
    "plt.xlabel('x')\n",
    "plt.ylabel('y')\n",
    "plt.show()\n",
    "print('Se observa que el valor esperado o media es igual a 0')"
   ]
  },
  {
   "cell_type": "code",
   "execution_count": 59,
   "metadata": {},
   "outputs": [],
   "source": [
    "# Generamos los 10 numeros aleatorios\n",
    "N = 10\n",
    "np.random.seed(1)\n",
    "u1 = np.random.rand(N)"
   ]
  },
  {
   "cell_type": "code",
   "execution_count": 60,
   "metadata": {},
   "outputs": [
    {
     "name": "stdout",
     "output_type": "stream",
     "text": [
      "Estimacíon de la media = -0.5043806672123164\n",
      "Se observa que el valor esperado o media es similar al teórico: 0\n"
     ]
    }
   ],
   "source": [
    "# a) Usando montecarlo crudo\n",
    "mean_mon_crudo = np.mean(list(map(xi,u1)))\n",
    "print('Estimacíon de la media =',mean_mon_crudo)\n",
    "print('Se observa que el valor esperado o media es similar al teórico: 0')"
   ]
  },
  {
   "cell_type": "code",
   "execution_count": 61,
   "metadata": {},
   "outputs": [
    {
     "name": "stdout",
     "output_type": "stream",
     "text": [
      "Estimacíon de la media = -0.4559904610081392\n",
      "Se observa que el valor esperado o media es similar al teórico: 0\n"
     ]
    }
   ],
   "source": [
    "# b) Usando muestreo estratificado 1\n",
    "r1 = u1[0:3]\n",
    "r2 = u1[3:6]\n",
    "r3 = u1[6:]\n",
    "r = [r1,r2,r3]\n",
    "m = range(len(r))  # Cantidad de estratos\n",
    "w = [((len(r1)/N)/(0.6-0)), ((len(r2)/N)/(0.9-0.6)), ((len(r3)/N)/(1-0.9))]\n",
    "estrat1 = list(map(lambda r:np.array(list(map(xi,r))),r))\n",
    "muestras = list(map(lambda wi,xi:xi/wi,w,estrat1))\n",
    "print('Estimacíon de la media =', np.concatenate(muestras).mean())\n",
    "print('Se observa que el valor esperado o media es similar al teórico: 0')"
   ]
  },
  {
   "cell_type": "code",
   "execution_count": 62,
   "metadata": {},
   "outputs": [
    {
     "name": "stdout",
     "output_type": "stream",
     "text": [
      "Estimacíon de la media = 0.0\n"
     ]
    }
   ],
   "source": [
    "# c) Aleatorios Complementarios\n",
    "u_comp = 1-u1\n",
    "mean_aux = np.mean(list(map(xi,u_comp)))\n",
    "mean_nume_compleme = (mean_mon_crudo+mean_aux)/2\n",
    "print('Estimacíon de la media =',mean_nume_compleme)\n",
    "print('Se observa que el valor esperado o media es igual al teórico: 0')"
   ]
  },
  {
   "cell_type": "code",
   "execution_count": 66,
   "metadata": {},
   "outputs": [
    {
     "name": "stdout",
     "output_type": "stream",
     "text": [
      "Estimacíon de la media para 2 estratos es 0.1431\n",
      "Estimacíon de la media para 4 estratos es 0.0810\n",
      "Estimacíon de la media para 6 estratos es 0.0155\n",
      "Estimacíon de la media para 10 estratos es 0.0062\n"
     ]
    }
   ],
   "source": [
    "# d) Método muestreo estratificado (B estratos)\n",
    "B = [2,4,6,10]  # Cantidad de estratos\n",
    "muestras = list(map(est,B))  # Muestras para cada estrato \n",
    "aleatorios_f = list(map(lambda m_i:list(map(lambda m:xi(m),m_i)),muestras))  # Evalúo las muestras creadas (son 2 \"map\" por que 'muestras' es una lista de listas)\n",
    "prom_estratos = list(map(lambda ei:np.mean(ei),aleatorios_f))  # Calculo la media para cada estrato\n",
    "res = list(map(lambda b, prom:print('Estimacíon de la media para %i estratos es %2.4f' %(b, prom)), B, prom_estratos))"
   ]
  },
  {
   "cell_type": "code",
   "execution_count": null,
   "metadata": {},
   "outputs": [],
   "source": []
  }
 ],
 "metadata": {
  "kernelspec": {
   "display_name": "Python 3",
   "language": "python",
   "name": "python3"
  },
  "language_info": {
   "codemirror_mode": {
    "name": "ipython",
    "version": 3
   },
   "file_extension": ".py",
   "mimetype": "text/x-python",
   "name": "python",
   "nbconvert_exporter": "python",
   "pygments_lexer": "ipython3",
   "version": "3.6.7rc2"
  }
 },
 "nbformat": 4,
 "nbformat_minor": 2
}
