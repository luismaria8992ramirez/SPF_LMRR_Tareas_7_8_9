{
 "cells": [
  {
   "cell_type": "markdown",
   "metadata": {},
   "source": [
    "<img style=\"float: left; margin: 30px 15px 15px 15px;\" src=\"https://pngimage.net/wp-content/uploads/2018/06/logo-iteso-png-5.png\" width=\"300\" height=\"500\" /> \n",
    "    \n",
    "    \n",
    "### <font color='navy'> Simulación de procesos financieros. \n",
    "\n",
    "**Nombres:** Luis María Ramirez de la Rosa\n",
    "\n",
    "**Fecha:** 06 de octubre del 2020.\n",
    "\n",
    "**Expediente** : IF691761\n",
    "    \n",
    "**Profesor:** Oscar David Jaramillo Zuluaga. \n",
    "   \n",
    "**Link:** https://github.com/luismaria8992ramirez/SPF_LMRR_Tareas_7_8_9/blob/main/Tarea_8_LMRamirez.ipynb \n",
    "    \n",
    "# Tarea 8"
   ]
  },
  {
   "cell_type": "markdown",
   "metadata": {},
   "source": [
    "<img src=\"IMG.png\">"
   ]
  },
  {
   "cell_type": "markdown",
   "metadata": {},
   "source": [
    "## Respuesta de: LMRamirez"
   ]
  },
  {
   "cell_type": "markdown",
   "metadata": {},
   "source": [
    "$$ f(x) =\n",
    "  \\begin{cases}\n",
    "    {\\frac{3}{2}x^2}       & \\text{if }-1\\leq x \\leq 1\\\\\n",
    "    0  &  otherwise\n",
    "  \\end{cases}\n",
    "$$\n",
    "\n",
    "El valor esperado de $f(x)$ esta dado por: \n",
    "$$E[x] = \\int_{-\\infty}^{-\\infty} x f(x) dx = \\int_{-1}^{1} x \\frac{3}{2} x^{2} dx = \\frac{3}{2} \\int_{-1}^{1}  x^{3} dx = \\frac{3}{2} \\frac{x^{4}}{4} \\Big|_{-1}^{1} = \\frac{3}{8} [1 - 1] = 0$$\n",
    "\n",
    "La función de distribución acumulada sería:\n",
    "$$F(x) =  \\int_{-\\infty}^{x} f(x) dx = \\int_{-1}^{x} \\frac{3}{2} x^{2} dx = \\frac{3}{2} \\int_{-1}^{x} x^{2} dx = \\frac{3}{2} \\frac{x^{3}}{3} \\Big|_{-1}^{x} = \\frac{x^{3}}{2} \\Big|_{-1}^{x} = \\frac{x^{3}}{2} - \\frac{-1}{2} = \\frac{x^{3} + 1}{2}$$\n",
    "\n",
    "Método de la transformada inversa:\n",
    "$$y = \\frac{x^{3} + 1}{2} \\longrightarrow 2y = x^{3} + 1 \\longrightarrow 2y - 1 = x^{3} \\longrightarrow x = [2y - 1]^{\\frac{1}{3}}$$\n",
    "Que está definida de la siguiente forma $-[- 2y + 1]^{\\frac{1}{3}}$ si $y \\leq 0.5$ y $[2y - 1]^{\\frac{1}{3}}$ si $y \\geq 0.5$"
   ]
  },
  {
   "cell_type": "code",
   "execution_count": 3,
   "metadata": {},
   "outputs": [
    {
     "data": {
      "image/png": "[encoded data removed]",
      "text/plain": [
       "<Figure size 432x288 with 1 Axes>"
      ]
     },
     "metadata": {
      "needs_background": "light"
     },
     "output_type": "display_data"
    },
    {
     "name": "stdout",
     "output_type": "stream",
     "text": [
      "Se observa que el valor esperado o media es igual a 0\n"
     ]
    }
   ],
   "source": [
    "# Clase 9, trasformada inversa\n",
    "np.random.seed(1)  # Para que siempre sean los mismos numeros aleatorios\n",
    "N = 10000 # Número de muestras\n",
    "a = -1  # intervalo de integración (Limite inferior)\n",
    "b = 1  # intervalo de integración (Limite superior)\n",
    "f = lambda x: (3/2)*x**2 if x<=1 and x>=-1 else 0  # Función Inicial\n",
    "xi = lambda x: -(-2*x+1)**(1/3) if x<.5 else (2*x-1)**(1/3)  # Función usando transformada inversa\n",
    "# Validación de la función\n",
    "x = np.arange(a,b,0.001)  # Valores en x\n",
    "plt.plot(x,list(map(f,x)))  # Grafica de la función Inicial\n",
    "u = np.random.rand(N)  # Valores para la Función de la Transformada Inversa\n",
    "randon_f = list(map(xi,u))  # Lista de valores de la función de la Transformada Inversa\n",
    "plt.hist(randon_f, 50, density=True)  # Grafica de la Función de la Transformada Inversa\n",
    "plt.title('Validación')\n",
    "plt.xlabel('x')\n",
    "plt.ylabel('y')\n",
    "plt.show()\n",
    "print('Se observa que el valor esperado o media es igual a 0')"
   ]
  },
  {
   "cell_type": "code",
   "execution_count": 4,
   "metadata": {},
   "outputs": [],
   "source": [
    "# Generamos los 10 numeros aleatorios\n",
    "N = 10\n",
    "np.random.seed(1)\n",
    "u1 = np.random.rand(N)"
   ]
  },
  {
   "cell_type": "code",
   "execution_count": 5,
   "metadata": {},
   "outputs": [
    {
     "name": "stdout",
     "output_type": "stream",
     "text": [
      "Estimacíon de la media = -0.5043806672123164\n",
      "Se observa que el valor esperado o media es similar al teórico: 0\n"
     ]
    }
   ],
   "source": [
    "# a) Usando montecarlo crudo\n",
    "mean_mon_crudo = np.mean(list(map(xi,u1)))\n",
    "print('Estimacíon de la media =',mean_mon_crudo)\n",
    "print('Se observa que el valor esperado o media es similar al teórico: 0')"
   ]
  },
  {
   "cell_type": "code",
   "execution_count": 6,
   "metadata": {},
   "outputs": [
    {
     "name": "stdout",
     "output_type": "stream",
     "text": [
      "Estimacíon de la media = -0.4559904610081392\n",
      "Se observa que el valor esperado o media es similar al teórico: 0\n"
     ]
    }
   ],
   "source": [
    "# b) Usando muestreo estratificado 1\n",
    "r1 = u1[0:3]\n",
    "r2 = u1[3:6]\n",
    "r3 = u1[6:]\n",
    "r = [r1,r2,r3]\n",
    "m = range(len(r))  # Cantidad de estratos\n",
    "w = [((len(r1)/N)/(0.6-0)), ((len(r2)/N)/(0.9-0.6)), ((len(r3)/N)/(1-0.9))]\n",
    "estrat1 = list(map(lambda r:np.array(list(map(xi,r))),r))\n",
    "muestras = list(map(lambda wi,xi:xi/wi,w,estrat1))\n",
    "print('Estimacíon de la media =', np.concatenate(muestras).mean())\n",
    "print('Se observa que el valor esperado o media es similar al teórico: 0')"
   ]
  },
  {
   "cell_type": "code",
   "execution_count": 7,
   "metadata": {},
   "outputs": [
    {
     "name": "stdout",
     "output_type": "stream",
     "text": [
      "Estimacíon de la media = 0.0\n",
      "Se observa que el valor esperado o media es igual al teórico: 0\n"
     ]
    }
   ],
   "source": [
    "# c) Aleatorios Complementarios\n",
    "u_comp = 1-u1\n",
    "mean_aux = np.mean(list(map(xi,u_comp)))\n",
    "mean_nume_compleme = (mean_mon_crudo+mean_aux)/2\n",
    "print('Estimacíon de la media =',mean_nume_compleme)\n",
    "print('Se observa que el valor esperado o media es igual al teórico: 0')"
   ]
  },
  {
   "cell_type": "code",
   "execution_count": 8,
   "metadata": {},
   "outputs": [
    {
     "name": "stdout",
     "output_type": "stream",
     "text": [
      "Estimacíon de la media para 2 estratos es 0.0236\n",
      "Estimacíon de la media para 4 estratos es -0.0443\n",
      "Estimacíon de la media para 6 estratos es -0.0249\n",
      "Estimacíon de la media para 10 estratos es -0.0315\n"
     ]
    }
   ],
   "source": [
    "# d) Método muestreo estratificado (B estratos)\n",
    "B = [2,4,6,10]  # Cantidad de estratos\n",
    "muestras = list(map(est,B))  # Muestras para cada estrato \n",
    "aleatorios_f = list(map(lambda m_i:list(map(lambda m:xi(m),m_i)),muestras))  # Evalúo las muestras creadas (son 2 \"map\" por que 'muestras' es una lista de listas)\n",
    "prom_estratos = list(map(lambda ei:np.mean(ei),aleatorios_f))  # Calculo la media para cada estrato\n",
    "res = list(map(lambda b, prom:print('Estimacíon de la media para %i estratos es %2.4f' %(b, prom)), B, prom_estratos))"
   ]
  },
  {
   "cell_type": "code",
   "execution_count": null,
   "metadata": {},
   "outputs": [],
   "source": []
  }
 ],
 "metadata": {
  "kernelspec": {
   "display_name": "Python 3",
   "language": "python",
   "name": "python3"
  },
  "language_info": {
   "codemirror_mode": {
    "name": "ipython",
    "version": 3
   },
   "file_extension": ".py",
   "mimetype": "text/x-python",
   "name": "python",
   "nbconvert_exporter": "python",
   "pygments_lexer": "ipython3",
   "version": "3.6.7rc2"
  }
 },
 "nbformat": 4,
 "nbformat_minor": 4
}
